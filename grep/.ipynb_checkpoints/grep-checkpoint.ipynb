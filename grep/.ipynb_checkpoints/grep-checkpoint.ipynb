{
 "cells": [
  {
   "cell_type": "code",
   "execution_count": 1,
   "id": "34e7a415-96ea-4805-a8a5-451049f351cf",
   "metadata": {},
   "outputs": [],
   "source": [
    "vec <- c(\"apple\", \"banana\", \"Grapes\", \"grapes\")"
   ]
  },
  {
   "cell_type": "code",
   "execution_count": 2,
   "id": "e7a6203c-4e48-4b23-977b-c690ce5c2853",
   "metadata": {},
   "outputs": [
    {
     "name": "stdout",
     "output_type": "stream",
     "text": [
      "[1] \"apple\"  \"banana\" \"Grapes\" \"grapes\"\n"
     ]
    }
   ],
   "source": [
    "print(vec)"
   ]
  },
  {
   "cell_type": "code",
   "execution_count": 6,
   "id": "44944da7-82cd-4fa7-a0b0-7f6eadda968a",
   "metadata": {},
   "outputs": [
    {
     "data": {
      "text/html": [
       "<ol class=list-inline>\n",
       "\t<li>'Grapes'</li>\n",
       "\t<li>'grapes'</li>\n",
       "</ol>\n"
      ],
      "text/latex": [
       "\\begin{enumerate*}\n",
       "\\item 'Grapes'\n",
       "\\item 'grapes'\n",
       "\\end{enumerate*}\n"
      ],
      "text/markdown": [
       "1. 'Grapes'\n",
       "2. 'grapes'\n",
       "\n",
       "\n"
      ],
      "text/plain": [
       "[1] \"Grapes\" \"grapes\""
      ]
     },
     "metadata": {},
     "output_type": "display_data"
    }
   ],
   "source": [
    "grep(vec, pattern = \"pe\",ignore.case = TRUE, value = TRUE)"
   ]
  },
  {
   "cell_type": "code",
   "execution_count": 8,
   "id": "211b2a50-5819-4750-b505-ecb9b9512360",
   "metadata": {},
   "outputs": [
    {
     "data": {
      "text/html": [
       "<ol class=list-inline>\n",
       "\t<li>FALSE</li>\n",
       "\t<li>FALSE</li>\n",
       "\t<li>TRUE</li>\n",
       "\t<li>TRUE</li>\n",
       "</ol>\n"
      ],
      "text/latex": [
       "\\begin{enumerate*}\n",
       "\\item FALSE\n",
       "\\item FALSE\n",
       "\\item TRUE\n",
       "\\item TRUE\n",
       "\\end{enumerate*}\n"
      ],
      "text/markdown": [
       "1. FALSE\n",
       "2. FALSE\n",
       "3. TRUE\n",
       "4. TRUE\n",
       "\n",
       "\n"
      ],
      "text/plain": [
       "[1] FALSE FALSE  TRUE  TRUE"
      ]
     },
     "metadata": {},
     "output_type": "display_data"
    }
   ],
   "source": [
    "grepl(vec, pattern = \"pe\",ignore.case = TRUE)"
   ]
  },
  {
   "cell_type": "code",
   "execution_count": 9,
   "id": "f034177c-176e-47a3-9d44-7b72568648da",
   "metadata": {},
   "outputs": [
    {
     "data": {
      "text/html": [
       "<ol class=list-inline>\n",
       "\t<li>'apple'</li>\n",
       "\t<li>'banana'</li>\n",
       "\t<li>'Granes'</li>\n",
       "\t<li>'granes'</li>\n",
       "</ol>\n"
      ],
      "text/latex": [
       "\\begin{enumerate*}\n",
       "\\item 'apple'\n",
       "\\item 'banana'\n",
       "\\item 'Granes'\n",
       "\\item 'granes'\n",
       "\\end{enumerate*}\n"
      ],
      "text/markdown": [
       "1. 'apple'\n",
       "2. 'banana'\n",
       "3. 'Granes'\n",
       "4. 'granes'\n",
       "\n",
       "\n"
      ],
      "text/plain": [
       "[1] \"apple\"  \"banana\" \"Granes\" \"granes\""
      ]
     },
     "metadata": {},
     "output_type": "display_data"
    }
   ],
   "source": [
    "gsub(vec,pattern = \"pe\", replacement = \"ne\",ignore.case = TRUE)"
   ]
  },
  {
   "cell_type": "code",
   "execution_count": 11,
   "id": "53200dce-d0ef-4f3a-b01a-2776f9ddb8d3",
   "metadata": {},
   "outputs": [],
   "source": [
    "vec2 <- c(\"number01\", \"Number02\")"
   ]
  },
  {
   "cell_type": "code",
   "execution_count": 12,
   "id": "cf782a9d-0fe2-4491-a29b-3a81b0607354",
   "metadata": {},
   "outputs": [
    {
     "data": {
      "text/html": [
       "<ol class=list-inline>\n",
       "\t<li>'number01'</li>\n",
       "\t<li>'Number02'</li>\n",
       "</ol>\n"
      ],
      "text/latex": [
       "\\begin{enumerate*}\n",
       "\\item 'number01'\n",
       "\\item 'Number02'\n",
       "\\end{enumerate*}\n"
      ],
      "text/markdown": [
       "1. 'number01'\n",
       "2. 'Number02'\n",
       "\n",
       "\n"
      ],
      "text/plain": [
       "[1] \"number01\" \"Number02\""
      ]
     },
     "metadata": {},
     "output_type": "display_data"
    }
   ],
   "source": [
    "grep(vec2, pattern = \"[0-9]\", ignore.case = T, value = T)"
   ]
  },
  {
   "cell_type": "code",
   "execution_count": null,
   "id": "764d4ac7-044f-45d9-ac55-db132ae8fb94",
   "metadata": {},
   "outputs": [],
   "source": []
  }
 ],
 "metadata": {
  "kernelspec": {
   "display_name": "R",
   "language": "R",
   "name": "ir"
  },
  "language_info": {
   "codemirror_mode": "r",
   "file_extension": ".r",
   "mimetype": "text/x-r-source",
   "name": "R",
   "pygments_lexer": "r",
   "version": "3.6.1"
  }
 },
 "nbformat": 4,
 "nbformat_minor": 5
}
