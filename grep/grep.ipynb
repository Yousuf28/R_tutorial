{
 "cells": [
  {
   "cell_type": "code",
   "execution_count": 1,
   "id": "34e7a415-96ea-4805-a8a5-451049f351cf",
   "metadata": {},
   "outputs": [],
   "source": [
    "vec <- c(\"apple\", \"banana\", \"Grapes\", \"grapes\")"
   ]
  },
  {
   "cell_type": "code",
   "execution_count": 2,
   "id": "e7a6203c-4e48-4b23-977b-c690ce5c2853",
   "metadata": {},
   "outputs": [
    {
     "name": "stdout",
     "output_type": "stream",
     "text": [
      "[1] \"apple\"  \"banana\" \"Grapes\" \"grapes\"\n"
     ]
    }
   ],
   "source": [
    "print(vec)"
   ]
  },
  {
   "cell_type": "code",
   "execution_count": 41,
   "id": "44944da7-82cd-4fa7-a0b0-7f6eadda968a",
   "metadata": {},
   "outputs": [
    {
     "data": {
      "text/html": [
       "<ol class=list-inline>\n",
       "\t<li>'Grapes'</li>\n",
       "\t<li>'grapes'</li>\n",
       "</ol>\n"
      ],
      "text/latex": [
       "\\begin{enumerate*}\n",
       "\\item 'Grapes'\n",
       "\\item 'grapes'\n",
       "\\end{enumerate*}\n"
      ],
      "text/markdown": [
       "1. 'Grapes'\n",
       "2. 'grapes'\n",
       "\n",
       "\n"
      ],
      "text/plain": [
       "[1] \"Grapes\" \"grapes\""
      ]
     },
     "metadata": {},
     "output_type": "display_data"
    }
   ],
   "source": [
    "grep(vec, pattern = \"pe\",ignore.case = TRUE, value = T)"
   ]
  },
  {
   "cell_type": "code",
   "execution_count": null,
   "id": "bf0e8811-38d7-478d-8638-efb37f9df089",
   "metadata": {},
   "outputs": [],
   "source": []
  },
  {
   "cell_type": "code",
   "execution_count": null,
   "id": "aa71f43b-2c26-440e-b2bd-f2a2eb969923",
   "metadata": {},
   "outputs": [],
   "source": []
  },
  {
   "cell_type": "code",
   "execution_count": 8,
   "id": "211b2a50-5819-4750-b505-ecb9b9512360",
   "metadata": {},
   "outputs": [
    {
     "data": {
      "text/html": [
       "<ol class=list-inline>\n",
       "\t<li>FALSE</li>\n",
       "\t<li>FALSE</li>\n",
       "\t<li>TRUE</li>\n",
       "\t<li>TRUE</li>\n",
       "</ol>\n"
      ],
      "text/latex": [
       "\\begin{enumerate*}\n",
       "\\item FALSE\n",
       "\\item FALSE\n",
       "\\item TRUE\n",
       "\\item TRUE\n",
       "\\end{enumerate*}\n"
      ],
      "text/markdown": [
       "1. FALSE\n",
       "2. FALSE\n",
       "3. TRUE\n",
       "4. TRUE\n",
       "\n",
       "\n"
      ],
      "text/plain": [
       "[1] FALSE FALSE  TRUE  TRUE"
      ]
     },
     "metadata": {},
     "output_type": "display_data"
    }
   ],
   "source": [
    "grepl(vec, pattern = \"pe\",ignore.case = TRUE)"
   ]
  },
  {
   "cell_type": "code",
   "execution_count": 42,
   "id": "f034177c-176e-47a3-9d44-7b72568648da",
   "metadata": {},
   "outputs": [
    {
     "data": {
      "text/html": [
       "<ol class=list-inline>\n",
       "\t<li>'apple'</li>\n",
       "\t<li>'banene'</li>\n",
       "\t<li>'Grapes'</li>\n",
       "\t<li>'grapes'</li>\n",
       "</ol>\n"
      ],
      "text/latex": [
       "\\begin{enumerate*}\n",
       "\\item 'apple'\n",
       "\\item 'banene'\n",
       "\\item 'Grapes'\n",
       "\\item 'grapes'\n",
       "\\end{enumerate*}\n"
      ],
      "text/markdown": [
       "1. 'apple'\n",
       "2. 'banene'\n",
       "3. 'Grapes'\n",
       "4. 'grapes'\n",
       "\n",
       "\n"
      ],
      "text/plain": [
       "[1] \"apple\"  \"banene\" \"Grapes\" \"grapes\""
      ]
     },
     "metadata": {},
     "output_type": "display_data"
    }
   ],
   "source": [
    "gsub(vec,pattern = \"na\", replacement = \"ne\",ignore.case = TRUE)"
   ]
  },
  {
   "cell_type": "code",
   "execution_count": null,
   "id": "5d608bef-7d42-4385-a42a-c0f3121ac69c",
   "metadata": {},
   "outputs": [],
   "source": []
  },
  {
   "cell_type": "code",
   "execution_count": 48,
   "id": "53200dce-d0ef-4f3a-b01a-2776f9ddb8d3",
   "metadata": {},
   "outputs": [],
   "source": [
    "vec2 <- c(\"number01\", \"Number02\")"
   ]
  },
  {
   "cell_type": "code",
   "execution_count": 12,
   "id": "cf782a9d-0fe2-4491-a29b-3a81b0607354",
   "metadata": {},
   "outputs": [
    {
     "data": {
      "text/html": [
       "<ol class=list-inline>\n",
       "\t<li>'number01'</li>\n",
       "\t<li>'Number02'</li>\n",
       "</ol>\n"
      ],
      "text/latex": [
       "\\begin{enumerate*}\n",
       "\\item 'number01'\n",
       "\\item 'Number02'\n",
       "\\end{enumerate*}\n"
      ],
      "text/markdown": [
       "1. 'number01'\n",
       "2. 'Number02'\n",
       "\n",
       "\n"
      ],
      "text/plain": [
       "[1] \"number01\" \"Number02\""
      ]
     },
     "metadata": {},
     "output_type": "display_data"
    }
   ],
   "source": [
    "grep(vec2, pattern = \"[0-9]\", ignore.case = T, value = T)"
   ]
  },
  {
   "cell_type": "code",
   "execution_count": 49,
   "id": "764d4ac7-044f-45d9-ac55-db132ae8fb94",
   "metadata": {},
   "outputs": [
    {
     "data": {
      "text/html": [
       "<ol>\n",
       "\t<li><ol class=list-inline>\n",
       "\t<li>'n'</li>\n",
       "\t<li>'u'</li>\n",
       "\t<li>'m'</li>\n",
       "\t<li>'b'</li>\n",
       "\t<li>'e'</li>\n",
       "\t<li>'r'</li>\n",
       "\t<li>'0'</li>\n",
       "\t<li>'1'</li>\n",
       "</ol>\n",
       "</li>\n",
       "\t<li><ol class=list-inline>\n",
       "\t<li>'N'</li>\n",
       "\t<li>'u'</li>\n",
       "\t<li>'m'</li>\n",
       "\t<li>'b'</li>\n",
       "\t<li>'e'</li>\n",
       "\t<li>'r'</li>\n",
       "\t<li>'0'</li>\n",
       "\t<li>'2'</li>\n",
       "</ol>\n",
       "</li>\n",
       "</ol>\n"
      ],
      "text/latex": [
       "\\begin{enumerate}\n",
       "\\item \\begin{enumerate*}\n",
       "\\item 'n'\n",
       "\\item 'u'\n",
       "\\item 'm'\n",
       "\\item 'b'\n",
       "\\item 'e'\n",
       "\\item 'r'\n",
       "\\item '0'\n",
       "\\item '1'\n",
       "\\end{enumerate*}\n",
       "\n",
       "\\item \\begin{enumerate*}\n",
       "\\item 'N'\n",
       "\\item 'u'\n",
       "\\item 'm'\n",
       "\\item 'b'\n",
       "\\item 'e'\n",
       "\\item 'r'\n",
       "\\item '0'\n",
       "\\item '2'\n",
       "\\end{enumerate*}\n",
       "\n",
       "\\end{enumerate}\n"
      ],
      "text/markdown": [
       "1. 1. 'n'\n",
       "2. 'u'\n",
       "3. 'm'\n",
       "4. 'b'\n",
       "5. 'e'\n",
       "6. 'r'\n",
       "7. '0'\n",
       "8. '1'\n",
       "\n",
       "\n",
       "\n",
       "2. 1. 'N'\n",
       "2. 'u'\n",
       "3. 'm'\n",
       "4. 'b'\n",
       "5. 'e'\n",
       "6. 'r'\n",
       "7. '0'\n",
       "8. '2'\n",
       "\n",
       "\n",
       "\n",
       "\n",
       "\n"
      ],
      "text/plain": [
       "[[1]]\n",
       "[1] \"n\" \"u\" \"m\" \"b\" \"e\" \"r\" \"0\" \"1\"\n",
       "\n",
       "[[2]]\n",
       "[1] \"N\" \"u\" \"m\" \"b\" \"e\" \"r\" \"0\" \"2\"\n"
      ]
     },
     "metadata": {},
     "output_type": "display_data"
    }
   ],
   "source": [
    "strsplit(vec2, split = \"\")"
   ]
  },
  {
   "cell_type": "code",
   "execution_count": 56,
   "id": "1b194b61-1204-450e-bdbb-550258a296ab",
   "metadata": {},
   "outputs": [
    {
     "data": {
      "text/html": [
       "'adsf--sld'"
      ],
      "text/latex": [
       "'adsf--sld'"
      ],
      "text/markdown": [
       "'adsf--sld'"
      ],
      "text/plain": [
       "[1] \"adsf--sld\""
      ]
     },
     "metadata": {},
     "output_type": "display_data"
    }
   ],
   "source": [
    "paste0(c(\"adsf\", \"sld\"), collapse = \"--\")"
   ]
  },
  {
   "cell_type": "code",
   "execution_count": 57,
   "id": "9c675b8e-7e2c-4cc5-91dc-b64a0df86a77",
   "metadata": {},
   "outputs": [
    {
     "data": {
      "text/html": [
       "'1_two_3_four_5_six'"
      ],
      "text/latex": [
       "'1\\_two\\_3\\_four\\_5\\_six'"
      ],
      "text/markdown": [
       "'1_two_3_four_5_six'"
      ],
      "text/plain": [
       "[1] \"1_two_3_four_5_six\""
      ]
     },
     "metadata": {},
     "output_type": "display_data"
    }
   ],
   "source": [
    "paste(1,'two',3,'four',5,'six',sep = \"_\")"
   ]
  },
  {
   "cell_type": "code",
   "execution_count": null,
   "id": "fc994a7c-b880-4a17-a5f2-9fe952278da1",
   "metadata": {},
   "outputs": [],
   "source": []
  },
  {
   "cell_type": "code",
   "execution_count": null,
   "id": "460b5602-2344-49b4-b686-40129f06d600",
   "metadata": {},
   "outputs": [],
   "source": []
  },
  {
   "cell_type": "code",
   "execution_count": null,
   "id": "bb6495b8-9f19-4aad-b447-6a16b6123ce5",
   "metadata": {},
   "outputs": [],
   "source": []
  },
  {
   "cell_type": "code",
   "execution_count": null,
   "id": "008277b6-8e9a-4ffc-a90a-32af59afc2bb",
   "metadata": {},
   "outputs": [],
   "source": []
  },
  {
   "cell_type": "code",
   "execution_count": null,
   "id": "c704bde2-0724-48d7-8fce-713f93dd96af",
   "metadata": {},
   "outputs": [],
   "source": []
  },
  {
   "cell_type": "code",
   "execution_count": null,
   "id": "61784161-b8f5-4517-82f2-3b6183ae0557",
   "metadata": {},
   "outputs": [],
   "source": []
  },
  {
   "cell_type": "code",
   "execution_count": null,
   "id": "88ae279b-56ed-4994-99be-68323e99722a",
   "metadata": {},
   "outputs": [],
   "source": []
  },
  {
   "cell_type": "code",
   "execution_count": null,
   "id": "ee82f84a-5bd2-45c5-adf0-a0a680a3dd5e",
   "metadata": {},
   "outputs": [],
   "source": []
  },
  {
   "cell_type": "code",
   "execution_count": null,
   "id": "24435862-0805-41ff-9b47-de1dad353994",
   "metadata": {},
   "outputs": [],
   "source": []
  },
  {
   "cell_type": "code",
   "execution_count": 14,
   "id": "c71414fd-784e-4f2b-a5d7-1aec55a00fb4",
   "metadata": {},
   "outputs": [
    {
     "data": {
      "text/html": [
       "<ol class=list-inline>\n",
       "\t<li>'01'</li>\n",
       "\t<li>'02'</li>\n",
       "</ol>\n"
      ],
      "text/latex": [
       "\\begin{enumerate*}\n",
       "\\item '01'\n",
       "\\item '02'\n",
       "\\end{enumerate*}\n"
      ],
      "text/markdown": [
       "1. '01'\n",
       "2. '02'\n",
       "\n",
       "\n"
      ],
      "text/plain": [
       "[1] \"01\" \"02\""
      ]
     },
     "metadata": {},
     "output_type": "display_data"
    }
   ],
   "source": [
    "gsub(vec2,pattern = \"[a-zA-Z]\", replacement = \"\")"
   ]
  },
  {
   "cell_type": "code",
   "execution_count": 25,
   "id": "4a2cd15f-c68d-42b3-bc17-c17d7d947886",
   "metadata": {},
   "outputs": [
    {
     "data": {
      "text/html": [
       "<ol class=list-inline>\n",
       "\t<li>'01'</li>\n",
       "\t<li>'02'</li>\n",
       "</ol>\n"
      ],
      "text/latex": [
       "\\begin{enumerate*}\n",
       "\\item '01'\n",
       "\\item '02'\n",
       "\\end{enumerate*}\n"
      ],
      "text/markdown": [
       "1. '01'\n",
       "2. '02'\n",
       "\n",
       "\n"
      ],
      "text/plain": [
       "[1] \"01\" \"02\""
      ]
     },
     "metadata": {},
     "output_type": "display_data"
    }
   ],
   "source": [
    "gsub(vec2,pattern = \"[a-zA-Z]\", replacement = \"\")"
   ]
  },
  {
   "cell_type": "code",
   "execution_count": 27,
   "id": "792a4a2f-031b-45fa-ab68-1441fc7ded78",
   "metadata": {},
   "outputs": [
    {
     "data": {
      "text/html": [
       "<ol class=list-inline>\n",
       "\t<li>'01'</li>\n",
       "\t<li>'02'</li>\n",
       "</ol>\n"
      ],
      "text/latex": [
       "\\begin{enumerate*}\n",
       "\\item '01'\n",
       "\\item '02'\n",
       "\\end{enumerate*}\n"
      ],
      "text/markdown": [
       "1. '01'\n",
       "2. '02'\n",
       "\n",
       "\n"
      ],
      "text/plain": [
       "[1] \"01\" \"02\""
      ]
     },
     "metadata": {},
     "output_type": "display_data"
    }
   ],
   "source": [
    "gsub(vec2,pattern = \"\\\\D+\", replacement = \"\")"
   ]
  },
  {
   "cell_type": "code",
   "execution_count": 28,
   "id": "ec45a2f2-7370-4c39-911b-92b79520bca8",
   "metadata": {},
   "outputs": [
    {
     "data": {
      "text/html": [
       "<ol class=list-inline>\n",
       "\t<li>'number'</li>\n",
       "\t<li>'Number'</li>\n",
       "</ol>\n"
      ],
      "text/latex": [
       "\\begin{enumerate*}\n",
       "\\item 'number'\n",
       "\\item 'Number'\n",
       "\\end{enumerate*}\n"
      ],
      "text/markdown": [
       "1. 'number'\n",
       "2. 'Number'\n",
       "\n",
       "\n"
      ],
      "text/plain": [
       "[1] \"number\" \"Number\""
      ]
     },
     "metadata": {},
     "output_type": "display_data"
    }
   ],
   "source": [
    "gsub(vec2,pattern = \"\\\\d\", replacement = \"\")"
   ]
  },
  {
   "cell_type": "code",
   "execution_count": 29,
   "id": "125837c8-0d8d-46fe-ba32-2b2850a8d7de",
   "metadata": {},
   "outputs": [],
   "source": [
    "vec2 <- c(\"number01\", \"Number02 number 03\")"
   ]
  },
  {
   "cell_type": "code",
   "execution_count": 33,
   "id": "97e171a2-2c2e-4dc8-96ad-b60d4df24489",
   "metadata": {},
   "outputs": [
    {
     "data": {
      "text/html": [
       "<ol class=list-inline>\n",
       "\t<li>'01'</li>\n",
       "\t<li>'02'</li>\n",
       "</ol>\n"
      ],
      "text/latex": [
       "\\begin{enumerate*}\n",
       "\\item '01'\n",
       "\\item '02'\n",
       "\\end{enumerate*}\n"
      ],
      "text/markdown": [
       "1. '01'\n",
       "2. '02'\n",
       "\n",
       "\n"
      ],
      "text/plain": [
       "[1] \"01\" \"02\""
      ]
     },
     "metadata": {},
     "output_type": "display_data"
    }
   ],
   "source": [
    "gsub(vec2,pattern = \"\\\\D\", replacement = \"\")"
   ]
  },
  {
   "cell_type": "code",
   "execution_count": 35,
   "id": "9b0834f9-6f22-49b0-b366-fc90fa76a705",
   "metadata": {},
   "outputs": [
    {
     "data": {
      "text/html": [
       "<ol>\n",
       "\t<li>'apple'</li>\n",
       "\t<li>'banana'</li>\n",
       "\t<li><ol class=list-inline>\n",
       "\t<li>''</li>\n",
       "\t<li>'rapes'</li>\n",
       "</ol>\n",
       "</li>\n",
       "\t<li>'grapes'</li>\n",
       "</ol>\n"
      ],
      "text/latex": [
       "\\begin{enumerate}\n",
       "\\item 'apple'\n",
       "\\item 'banana'\n",
       "\\item \\begin{enumerate*}\n",
       "\\item ''\n",
       "\\item 'rapes'\n",
       "\\end{enumerate*}\n",
       "\n",
       "\\item 'grapes'\n",
       "\\end{enumerate}\n"
      ],
      "text/markdown": [
       "1. 'apple'\n",
       "2. 'banana'\n",
       "3. 1. ''\n",
       "2. 'rapes'\n",
       "\n",
       "\n",
       "\n",
       "4. 'grapes'\n",
       "\n",
       "\n"
      ],
      "text/plain": [
       "[[1]]\n",
       "[1] \"apple\"\n",
       "\n",
       "[[2]]\n",
       "[1] \"banana\"\n",
       "\n",
       "[[3]]\n",
       "[1] \"\"      \"rapes\"\n",
       "\n",
       "[[4]]\n",
       "[1] \"grapes\"\n"
      ]
     },
     "metadata": {},
     "output_type": "display_data"
    }
   ],
   "source": [
    "strsplit(vec,split = \"G\",)"
   ]
  },
  {
   "cell_type": "code",
   "execution_count": 58,
   "id": "8cb2158d-e4c8-420f-9aad-d043d008bd59",
   "metadata": {},
   "outputs": [
    {
     "ename": "ERROR",
     "evalue": "Error in parse(text = x, srcfile = src): <text>:1:23: unexpected INCOMPLETE_STRING\n1: strsplit(vec2,split = \",)\n                          ^\n",
     "output_type": "error",
     "traceback": [
      "Error in parse(text = x, srcfile = src): <text>:1:23: unexpected INCOMPLETE_STRING\n1: strsplit(vec2,split = \",)\n                          ^\nTraceback:\n"
     ]
    }
   ],
   "source": [
    "strsplit(vec2,split = \",)"
   ]
  },
  {
   "cell_type": "code",
   "execution_count": null,
   "id": "5839750f-f058-43fd-a8f2-4e22ff983357",
   "metadata": {},
   "outputs": [],
   "source": []
  },
  {
   "cell_type": "code",
   "execution_count": null,
   "id": "8f19d971-88c9-4857-92ca-62981246e1d5",
   "metadata": {},
   "outputs": [],
   "source": []
  },
  {
   "cell_type": "code",
   "execution_count": null,
   "id": "b4242582-1852-47ef-b1c9-34949eab52e8",
   "metadata": {},
   "outputs": [],
   "source": []
  },
  {
   "cell_type": "code",
   "execution_count": null,
   "id": "e68c9629-3e41-47e3-8faa-36e98edccc1e",
   "metadata": {},
   "outputs": [],
   "source": []
  },
  {
   "cell_type": "code",
   "execution_count": null,
   "id": "18fcffd1-73de-4e0d-a6ce-717a888857a0",
   "metadata": {},
   "outputs": [],
   "source": []
  },
  {
   "cell_type": "code",
   "execution_count": null,
   "id": "53aab728-548b-4a01-842a-9146d0b8d74b",
   "metadata": {},
   "outputs": [],
   "source": []
  },
  {
   "cell_type": "code",
   "execution_count": null,
   "id": "ced4f8d9-d442-477b-be82-577af2a7d84e",
   "metadata": {},
   "outputs": [],
   "source": []
  },
  {
   "cell_type": "code",
   "execution_count": null,
   "id": "8689644f-eebb-486f-9604-81dae69438be",
   "metadata": {},
   "outputs": [],
   "source": []
  },
  {
   "cell_type": "code",
   "execution_count": null,
   "id": "973d3228-57bf-450b-a0b1-68238499864a",
   "metadata": {},
   "outputs": [],
   "source": []
  },
  {
   "cell_type": "code",
   "execution_count": null,
   "id": "ad069880-00a2-4f2c-9760-db26f7ce2ffd",
   "metadata": {},
   "outputs": [],
   "source": []
  },
  {
   "cell_type": "code",
   "execution_count": null,
   "id": "aa5403e0-6722-4d04-87f2-7e28afaba23c",
   "metadata": {},
   "outputs": [],
   "source": []
  },
  {
   "cell_type": "code",
   "execution_count": null,
   "id": "e364653c-ff14-4fb8-9434-e76d5dfc170f",
   "metadata": {},
   "outputs": [],
   "source": []
  },
  {
   "cell_type": "code",
   "execution_count": null,
   "id": "764cfe0b-3464-4f4e-ae26-5e3fa1cf7cfc",
   "metadata": {},
   "outputs": [],
   "source": []
  },
  {
   "cell_type": "code",
   "execution_count": null,
   "id": "411545d7-2942-4f15-bdc2-f1356bd6a2e2",
   "metadata": {},
   "outputs": [],
   "source": []
  },
  {
   "cell_type": "code",
   "execution_count": 18,
   "id": "8418671f-3d42-4a77-96ac-7ca06b323760",
   "metadata": {},
   "outputs": [],
   "source": [
    "ll <- list(A = 1:5, B= c(\"a\",\"b\",\"c\",\"d\",\"e\"))"
   ]
  },
  {
   "cell_type": "code",
   "execution_count": 19,
   "id": "f1263f27-b8f9-40fe-a99f-1798a2071b91",
   "metadata": {},
   "outputs": [
    {
     "data": {
      "text/html": [
       "<dl>\n",
       "\t<dt>$A</dt>\n",
       "\t\t<dd><ol class=list-inline>\n",
       "\t<li>1</li>\n",
       "\t<li>2</li>\n",
       "\t<li>3</li>\n",
       "\t<li>4</li>\n",
       "\t<li>5</li>\n",
       "</ol>\n",
       "</dd>\n",
       "\t<dt>$B</dt>\n",
       "\t\t<dd><ol class=list-inline>\n",
       "\t<li>'a'</li>\n",
       "\t<li>'b'</li>\n",
       "\t<li>'c'</li>\n",
       "\t<li>'d'</li>\n",
       "\t<li>'e'</li>\n",
       "</ol>\n",
       "</dd>\n",
       "</dl>\n"
      ],
      "text/latex": [
       "\\begin{description}\n",
       "\\item[\\$A] \\begin{enumerate*}\n",
       "\\item 1\n",
       "\\item 2\n",
       "\\item 3\n",
       "\\item 4\n",
       "\\item 5\n",
       "\\end{enumerate*}\n",
       "\n",
       "\\item[\\$B] \\begin{enumerate*}\n",
       "\\item 'a'\n",
       "\\item 'b'\n",
       "\\item 'c'\n",
       "\\item 'd'\n",
       "\\item 'e'\n",
       "\\end{enumerate*}\n",
       "\n",
       "\\end{description}\n"
      ],
      "text/markdown": [
       "$A\n",
       ":   1. 1\n",
       "2. 2\n",
       "3. 3\n",
       "4. 4\n",
       "5. 5\n",
       "\n",
       "\n",
       "\n",
       "$B\n",
       ":   1. 'a'\n",
       "2. 'b'\n",
       "3. 'c'\n",
       "4. 'd'\n",
       "5. 'e'\n",
       "\n",
       "\n",
       "\n",
       "\n",
       "\n"
      ],
      "text/plain": [
       "$A\n",
       "[1] 1 2 3 4 5\n",
       "\n",
       "$B\n",
       "[1] \"a\" \"b\" \"c\" \"d\" \"e\"\n"
      ]
     },
     "metadata": {},
     "output_type": "display_data"
    }
   ],
   "source": [
    "ll"
   ]
  },
  {
   "cell_type": "code",
   "execution_count": 20,
   "id": "39348eb9-3175-4c91-a208-f63f2cc449b0",
   "metadata": {},
   "outputs": [
    {
     "data": {
      "text/html": [
       "<dl class=dl-horizontal>\n",
       "\t<dt>A</dt>\n",
       "\t\t<dd>5</dd>\n",
       "\t<dt>B</dt>\n",
       "\t\t<dd>5</dd>\n",
       "</dl>\n"
      ],
      "text/latex": [
       "\\begin{description*}\n",
       "\\item[A] 5\n",
       "\\item[B] 5\n",
       "\\end{description*}\n"
      ],
      "text/markdown": [
       "A\n",
       ":   5B\n",
       ":   5\n",
       "\n"
      ],
      "text/plain": [
       "A B \n",
       "5 5 "
      ]
     },
     "metadata": {},
     "output_type": "display_data"
    }
   ],
   "source": [
    "sapply(ll, length)"
   ]
  },
  {
   "cell_type": "code",
   "execution_count": 21,
   "id": "fec04f51-ed0c-419e-abe0-81ce7f75aa4f",
   "metadata": {},
   "outputs": [
    {
     "data": {
      "text/html": [
       "<dl>\n",
       "\t<dt>$A</dt>\n",
       "\t\t<dd>5</dd>\n",
       "\t<dt>$B</dt>\n",
       "\t\t<dd>5</dd>\n",
       "</dl>\n"
      ],
      "text/latex": [
       "\\begin{description}\n",
       "\\item[\\$A] 5\n",
       "\\item[\\$B] 5\n",
       "\\end{description}\n"
      ],
      "text/markdown": [
       "$A\n",
       ":   5\n",
       "$B\n",
       ":   5\n",
       "\n",
       "\n"
      ],
      "text/plain": [
       "$A\n",
       "[1] 5\n",
       "\n",
       "$B\n",
       "[1] 5\n"
      ]
     },
     "metadata": {},
     "output_type": "display_data"
    }
   ],
   "source": [
    "lapply(ll, length)"
   ]
  },
  {
   "cell_type": "code",
   "execution_count": null,
   "id": "d859b3ac-9304-4983-9dad-f1a5045b4635",
   "metadata": {},
   "outputs": [],
   "source": []
  },
  {
   "cell_type": "code",
   "execution_count": null,
   "id": "e29e9780-8e5e-4b7f-8ed1-a50a959336ba",
   "metadata": {},
   "outputs": [],
   "source": []
  },
  {
   "cell_type": "code",
   "execution_count": null,
   "id": "67f3396a-486c-416f-8f49-059a267ae389",
   "metadata": {},
   "outputs": [],
   "source": []
  }
 ],
 "metadata": {
  "kernelspec": {
   "display_name": "R",
   "language": "R",
   "name": "ir"
  },
  "language_info": {
   "codemirror_mode": "r",
   "file_extension": ".r",
   "mimetype": "text/x-r-source",
   "name": "R",
   "pygments_lexer": "r",
   "version": "3.6.1"
  }
 },
 "nbformat": 4,
 "nbformat_minor": 5
}
